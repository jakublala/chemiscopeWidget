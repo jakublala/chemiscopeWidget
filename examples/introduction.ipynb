{
 "cells": [
  {
   "cell_type": "markdown",
   "metadata": {},
   "source": [
    "# Introduction"
   ]
  },
  {
   "cell_type": "code",
   "execution_count": 1,
   "metadata": {},
   "outputs": [],
   "source": [
    "import json\n",
    "\n",
    "#########################\n",
    "\n",
    "import ase\n",
    "from ase import io  # noqa\n",
    "\n",
    "import numpy as np\n",
    "\n",
    "from sklearn.decomposition import PCA\n",
    "\n",
    "from rascaline import SoapPowerSpectrum\n",
    "\n",
    "import chemiscope"
   ]
  },
  {
   "cell_type": "code",
   "execution_count": 2,
   "metadata": {},
   "outputs": [],
   "source": [
    "soap = SoapPowerSpectrum(\n",
    "    cutoff=3.5,\n",
    "    max_radial=5,\n",
    "    max_angular=5,\n",
    "    atomic_gaussian_width=0.2,\n",
    "    gradients=False,\n",
    "    cutoff_function={\"ShiftedCosine\": {\"width\": 0.5}},\n",
    "    radial_basis={\"Gto\": {}},\n",
    ")\n",
    "\n",
    "\n",
    "frames = ase.io.read(\"example.xyz\", \":\")\n",
    "\n",
    "descriptor = soap.compute(frames)\n",
    "descriptor.densify([\"species_neighbor_1\", \"species_neighbor_2\"])\n",
    "\n",
    "soap_vectors = descriptor.values\n",
    "soap_vectors_per_structure = np.zeros((len(frames), soap_vectors.shape[1]))\n",
    "\n",
    "start = 0\n",
    "for i, frame in enumerate(frames):\n",
    "    stop = start + len(frame)\n",
    "    soap_vectors_per_structure[i, :] = np.sum(soap_vectors[start:stop, :], axis=0)\n",
    "    start = stop\n",
    "\n",
    "pca = PCA(n_components=2)\n",
    "\n",
    "properties = {\n",
    "    \"PCA\": {\n",
    "        \"values\": pca.fit_transform(soap_vectors_per_structure),\n",
    "        \"target\": \"structure\",\n",
    "    }\n",
    "}"
   ]
  },
  {
   "cell_type": "code",
   "execution_count": 3,
   "metadata": {},
   "outputs": [
    {
     "data": {
      "application/vnd.jupyter.widget-view+json": {
       "model_id": "cb5fb340bc2944118e149409cbabd2bf",
       "version_major": 2,
       "version_minor": 0
      },
      "text/plain": [
       "widget(value='{\"meta\": {\"name\": \" \"}, \"structures\": [{\"size\": 5, \"names\": [\"C\", \"H\", \"H\", \"H\", \"H\"], \"x\": [1.8…"
      ]
     },
     "metadata": {},
     "output_type": "display_data"
    }
   ],
   "source": [
    "chemiscope.display(frames, properties)"
   ]
  }
 ],
 "metadata": {
  "kernelspec": {
   "display_name": "Python 3",
   "language": "python",
   "name": "python3"
  },
  "language_info": {
   "codemirror_mode": {
    "name": "ipython",
    "version": 3
   },
   "file_extension": ".py",
   "mimetype": "text/x-python",
   "name": "python",
   "nbconvert_exporter": "python",
   "pygments_lexer": "ipython3",
   "version": "3.9.4"
  }
 },
 "nbformat": 4,
 "nbformat_minor": 4
}
