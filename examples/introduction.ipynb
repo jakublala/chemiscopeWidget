{
 "cells": [
  {
   "cell_type": "markdown",
   "metadata": {},
   "source": [
    "# Introduction"
   ]
  },
  {
   "cell_type": "code",
   "execution_count": 1,
   "metadata": {},
   "outputs": [],
   "source": [
    "import json\n",
    "\n",
    "#########################\n",
    "\n",
    "import ase\n",
    "from ase import io  # noqa\n",
    "\n",
    "import numpy as np\n",
    "\n",
    "from sklearn.decomposition import PCA\n",
    "\n",
    "from rascaline import SoapPowerSpectrum\n",
    "\n",
    "import chemiscope"
   ]
  },
  {
   "cell_type": "code",
   "execution_count": 2,
   "metadata": {},
   "outputs": [],
   "source": [
    "soap = SoapPowerSpectrum(\n",
    "    cutoff=3.5,\n",
    "    max_radial=5,\n",
    "    max_angular=5,\n",
    "    atomic_gaussian_width=0.2,\n",
    "    gradients=False,\n",
    "    cutoff_function={\"ShiftedCosine\": {\"width\": 0.5}},\n",
    "    radial_basis={\"Gto\": {}},\n",
    ")\n",
    "\n",
    "\n",
    "frames = ase.io.read(\"example.xyz\", \":\")\n",
    "\n",
    "descriptor = soap.compute(frames)\n",
    "descriptor.densify([\"species_neighbor_1\", \"species_neighbor_2\"])\n",
    "\n",
    "soap_vectors = descriptor.values\n",
    "soap_vectors_per_structure = np.zeros((len(frames), soap_vectors.shape[1]))\n",
    "\n",
    "start = 0\n",
    "for i, frame in enumerate(frames):\n",
    "    stop = start + len(frame)\n",
    "    soap_vectors_per_structure[i, :] = np.sum(soap_vectors[start:stop, :], axis=0)\n",
    "    start = stop\n",
    "\n",
    "pca = PCA(n_components=2)\n",
    "\n",
    "properties = {\n",
    "    \"PCA\": {\n",
    "        \"values\": pca.fit_transform(soap_vectors_per_structure),\n",
    "        \"target\": \"structure\",\n",
    "    }\n",
    "}\n",
    "\n",
    "#w = chemiscopeWidget.widget()\n",
    "#w"
   ]
  },
  {
   "cell_type": "code",
   "execution_count": 8,
   "metadata": {},
   "outputs": [
    {
     "ename": "TypeError",
     "evalue": "write_input() missing 1 required positional argument: 'path'",
     "output_type": "error",
     "traceback": [
      "\u001b[1;31m---------------------------------------------------------------------------\u001b[0m",
      "\u001b[1;31mTypeError\u001b[0m                                 Traceback (most recent call last)",
      "\u001b[1;32m<ipython-input-8-191f913d1fb9>\u001b[0m in \u001b[0;36m<module>\u001b[1;34m\u001b[0m\n\u001b[1;32m----> 1\u001b[1;33m \u001b[0mchemiscope\u001b[0m\u001b[1;33m.\u001b[0m\u001b[0mwrite_input\u001b[0m\u001b[1;33m(\u001b[0m\u001b[0mframes\u001b[0m\u001b[1;33m=\u001b[0m\u001b[0mframes\u001b[0m\u001b[1;33m,\u001b[0m \u001b[0mproperties\u001b[0m\u001b[1;33m=\u001b[0m\u001b[0mproperties\u001b[0m\u001b[1;33m)\u001b[0m\u001b[1;33m\u001b[0m\u001b[1;33m\u001b[0m\u001b[0m\n\u001b[0m",
      "\u001b[1;31mTypeError\u001b[0m: write_input() missing 1 required positional argument: 'path'"
     ]
    }
   ],
   "source": [
    "chemiscope.write_input(frames=frames, properties=properties)"
   ]
  },
  {
   "cell_type": "code",
   "execution_count": 5,
   "metadata": {},
   "outputs": [
    {
     "ename": "AttributeError",
     "evalue": "'widget' object has no attribute 'jsonData'",
     "output_type": "error",
     "traceback": [
      "\u001b[1;31m---------------------------------------------------------------------------\u001b[0m",
      "\u001b[1;31mAttributeError\u001b[0m                            Traceback (most recent call last)",
      "\u001b[1;32m<ipython-input-5-244c164282d6>\u001b[0m in \u001b[0;36m<module>\u001b[1;34m\u001b[0m\n\u001b[1;32m----> 1\u001b[1;33m \u001b[0mprint\u001b[0m\u001b[1;33m(\u001b[0m\u001b[0mw\u001b[0m\u001b[1;33m.\u001b[0m\u001b[0mjsonData\u001b[0m\u001b[1;33m)\u001b[0m\u001b[1;33m\u001b[0m\u001b[1;33m\u001b[0m\u001b[0m\n\u001b[0m",
      "\u001b[1;31mAttributeError\u001b[0m: 'widget' object has no attribute 'jsonData'"
     ]
    }
   ],
   "source": [
    "print(w.jsonData)"
   ]
  },
  {
   "cell_type": "code",
   "execution_count": 3,
   "metadata": {},
   "outputs": [
    {
     "data": {
      "application/vnd.jupyter.widget-view+json": {
       "model_id": "656a5b0bcad44292a42f2836c275e271",
       "version_major": 2,
       "version_minor": 0
      },
      "text/plain": [
       "widget(value='{\"meta\": {\"name\": \"chemiscope\"}, \"structures\": [{\"size\": 5, \"names\": [\"C\", \"H\", \"H\", \"H\", \"H\"], …"
      ]
     },
     "metadata": {},
     "output_type": "display_data"
    }
   ],
   "source": [
    "chemiscope.display(frames, properties)"
   ]
  }
 ],
 "metadata": {
  "kernelspec": {
   "display_name": "Python 3",
   "language": "python",
   "name": "python3"
  },
  "language_info": {
   "codemirror_mode": {
    "name": "ipython",
    "version": 3
   },
   "file_extension": ".py",
   "mimetype": "text/x-python",
   "name": "python",
   "nbconvert_exporter": "python",
   "pygments_lexer": "ipython3",
   "version": "3.9.4"
  }
 },
 "nbformat": 4,
 "nbformat_minor": 4
}
